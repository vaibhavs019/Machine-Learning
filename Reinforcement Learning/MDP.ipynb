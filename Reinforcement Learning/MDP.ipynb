{
 "cells": [
  {
   "cell_type": "markdown",
   "source": [
    "**Experiment-5**"
   ],
   "metadata": {
    "collapsed": false
   },
   "id": "1579fd2f710cf0f"
  },
  {
   "cell_type": "markdown",
   "source": [
    "**Aim: Implementation of MDP for a specific application**"
   ],
   "metadata": {
    "collapsed": false
   },
   "id": "c9013fd960f253c9"
  },
  {
   "cell_type": "markdown",
   "source": [
    "**Theory:**\n",
    "A Markov decision process (MDP) refers to a stochastic decision-making process that uses a mathematical framework to model the decision-making of a dynamic system. It is used in scenarios where the results are either random or controlled by a decision maker, which makes sequential decisions over time. MDPs evaluate which actions the decision maker should take considering the current state and environment of the system.\n",
    "\n",
    "MDPs rely on variables such as the environment, agent’s actions, and rewards to decide the system’s next optimal action. They are classified into four types — finite, infinite, continuous, or discrete — depending on various factors such as sets of actions, available states, and the decision-making frequency.\n",
    "\n",
    "MDP models are typically popular in two sub-areas of AI: probabilistic planning and reinforcement learning (RL). \n",
    "\n",
    "1. Probabilistic planning is the discipline that uses known models to accomplish an agent’s goals and objectives. While doing so, it emphasizes guiding machines or agents to make decisions while enabling them to learn how to behave to achieve their goals. \n",
    "2. Reinforcement learning allows applications to learn from the feedback the agents receive from the environment."
   ],
   "metadata": {
    "collapsed": false
   },
   "id": "2cb70c370f91de5d"
  },
  {
   "cell_type": "markdown",
   "source": [
    "**Working:**\n",
    "The MDP model operates by using key elements such as the agent, states, actions, rewards, and optimal policies. The agent refers to a system responsible for making decisions and performing actions. It operates in an environment that details the various states that the agent is in while it transitions from one state to another. MDP defines the mechanism of how certain states and an agent’s actions lead to the other states. Moreover, the agent receives rewards depending on the action it performs and the state it attains (current state). The policy for the MDP model reveals the agent’s following action depending on its current state.\n",
    "\n",
    "The MDP framework has the following key components:\n",
    "\n",
    "S: states (s ∈ S)\n",
    "A: Actions (a ∈ A)\n",
    "P (St+1|st.at): Transition probabilities\n",
    "R (s): Reward\n",
    "\n",
    "The graphical representation of the MDP model is as follows:\n",
    "![](/Users/skull/Downloads/MDP-model.png?raw=true)\n",
    "\n",
    "\n",
    "The MDP model uses the Markov Property, which states that the future can be determined only from the present state that encapsulates all the necessary information from the past. The Markov Property can be evaluated by using this equation:\n",
    "\n",
    "P[St+1|St] = P[St+1 |S1,S2,S3……St]\n",
    "\n",
    "According to this equation, the probability of the next state (P[St+1]) given the present state (St) is given by the next state’s probability (P[St+1]) considering all the previous states (S1,S2,S3……St). This implies that MDP uses only the present/current state to evaluate the next actions without any dependencies on previous states or actions."
   ],
   "metadata": {
    "collapsed": false
   },
   "id": "f60abab68dabf63f"
  },
  {
   "cell_type": "markdown",
   "source": [
    "**Examples:**\n",
    "1. Routing problems.\n",
    "2. Managing maintenance and repair of dynamic system.\n",
    "3. Designing intelligent machines.\n",
    "4. Designing quiz games.\n",
    "5. Managing wait time at a traffic intersection.\n",
    "6. Determining the number of patients to admit to a hospital."
   ],
   "metadata": {
    "collapsed": false
   },
   "id": "e5706a72dc33813f"
  },
  {
   "cell_type": "code",
   "execution_count": 1,
   "id": "initial_id",
   "metadata": {
    "collapsed": true,
    "ExecuteTime": {
     "end_time": "2024-04-05T14:16:46.886967Z",
     "start_time": "2024-04-05T14:16:46.664592Z"
    }
   },
   "outputs": [],
   "source": [
    "from typing import Tuple, Dict, Optional, Iterable\n",
    "import numpy as np\n",
    "import matplotlib\n",
    "from matplotlib import animation\n",
    "from IPython.display import HTML\n",
    "import gym\n",
    "from gym import spaces\n",
    "from gym.error import DependencyNotInstalled\n",
    "import pygame\n",
    "from pygame import gfxdraw\n",
    "\n",
    "\n",
    "class Maze(gym.Env):\n",
    "\n",
    "    def __init__(self, exploring_starts: bool = False,\n",
    "                 shaped_rewards: bool = False, size: int = 5) -> None:\n",
    "        super().__init__()\n",
    "        self.exploring_starts = exploring_starts\n",
    "        self.shaped_rewards = shaped_rewards\n",
    "        self.state = (size - 1, size - 1)\n",
    "        self.goal = (size - 1, size - 1)\n",
    "        self.maze = self._create_maze(size=size)\n",
    "        self.distances = self._compute_distances(self.goal, self.maze)\n",
    "        self.action_space = spaces.Discrete(n=4)\n",
    "        self.action_space.action_meanings = {0: 'UP', 1: 'RIGHT', 2: 'DOWN', 3: \"LEFT\"}\n",
    "        self.observation_space = spaces.MultiDiscrete([size, size])\n",
    "\n",
    "        self.screen = None\n",
    "        self.agent_transform = None\n",
    "\n",
    "    def step(self, action: int) -> Tuple[Tuple[int, int], float, bool, Dict]:\n",
    "        reward = self.compute_reward(self.state, action)\n",
    "        self.state = self._get_next_state(self.state, action)\n",
    "        done = self.state == self.goal\n",
    "        info = {}\n",
    "        return self.state, reward, done, info\n",
    "\n",
    "    def reset(self) -> Tuple[int, int]:\n",
    "        if self.exploring_starts:\n",
    "            while self.state == self.goal:\n",
    "                self.state = tuple(self.observation_space.sample())\n",
    "        else:\n",
    "            self.state = (0, 0)\n",
    "        return self.state\n",
    "\n",
    "    def render(self, mode: str = 'human') -> Optional[np.ndarray]:\n",
    "        assert mode in ['human', 'rgb_array']\n",
    "\n",
    "        screen_size = 600\n",
    "        scale = screen_size / 5\n",
    "\n",
    "        if self.screen is None:\n",
    "            pygame.init()\n",
    "            self.screen = pygame.Surface((screen_size, screen_size))\n",
    "\n",
    "        surf = pygame.Surface((screen_size, screen_size))\n",
    "        surf.fill((22, 36, 71))\n",
    "\n",
    "\n",
    "        for row in range(5):\n",
    "            for col in range(5):\n",
    "\n",
    "                state = (row, col)\n",
    "                for next_state in [(row + 1, col), (row - 1, col), (row, col + 1), (row, col - 1)]:\n",
    "                    if next_state not in self.maze[state]:\n",
    "\n",
    "                        # Add the geometry of the edges and walls (i.e. the boundaries between\n",
    "                        # adjacent squares that are not connected).\n",
    "                        row_diff, col_diff = np.subtract(next_state, state)\n",
    "                        left = (col + (col_diff > 0)) * scale - 2 * (col_diff != 0)\n",
    "                        right = ((col + 1) - (col_diff < 0)) * scale + 2 * (col_diff != 0)\n",
    "                        top = (5 - (row + (row_diff > 0))) * scale - 2 * (row_diff != 0)\n",
    "                        bottom = (5 - ((row + 1) - (row_diff < 0))) * scale + 2 * (row_diff != 0)\n",
    "\n",
    "                        gfxdraw.filled_polygon(surf, [(left, bottom), (left, top), (right, top), (right, bottom)], (255, 255, 255))\n",
    "\n",
    "        # Add the geometry of the goal square to the viewer.\n",
    "        left, right, top, bottom = scale * 4 + 10, scale * 5 - 10, scale - 10, 10\n",
    "        gfxdraw.filled_polygon(surf, [(left, bottom), (left, top), (right, top), (right, bottom)], (40, 199, 172))\n",
    "\n",
    "        # Add the geometry of the agent to the viewer.\n",
    "        agent_row = int(screen_size - scale * (self.state[0] + .5))\n",
    "        agent_col = int(scale * (self.state[1] + .5))\n",
    "        gfxdraw.filled_circle(surf, agent_col, agent_row, int(scale * .6 / 2), (228, 63, 90))\n",
    "\n",
    "        surf = pygame.transform.flip(surf, False, True)\n",
    "        self.screen.blit(surf, (0, 0))\n",
    "\n",
    "        return np.transpose(\n",
    "            np.array(pygame.surfarray.pixels3d(self.screen)), axes=(1, 0, 2)\n",
    "        )\n",
    "\n",
    "    def close(self) -> None:\n",
    "        if self.screen is not None:\n",
    "            pygame.display.quit()\n",
    "            pygame.quit()\n",
    "            self.screen = None\n",
    "\n",
    "    def compute_reward(self, state: Tuple[int, int], action: int) -> float:\n",
    "        next_state = self._get_next_state(state, action)\n",
    "        if self.shaped_rewards:\n",
    "            return - (self.distances[next_state] / self.distances.max())\n",
    "        return - float(state != self.goal)\n",
    "\n",
    "    def simulate_step(self, state: Tuple[int, int], action: int):\n",
    "        reward = self.compute_reward(state, action)\n",
    "        next_state = self._get_next_state(state, action)\n",
    "        done = next_state == self.goal\n",
    "        info = {}\n",
    "        return next_state, reward, done, info\n",
    "\n",
    "    def _get_next_state(self, state: Tuple[int, int], action: int) -> Tuple[int, int]:\n",
    "        if action == 0:\n",
    "            next_state = (state[0] - 1, state[1])\n",
    "        elif action == 1:\n",
    "            next_state = (state[0], state[1] + 1)\n",
    "        elif action == 2:\n",
    "            next_state = (state[0] + 1, state[1])\n",
    "        elif action == 3:\n",
    "            next_state = (state[0], state[1] - 1)\n",
    "        else:\n",
    "            raise ValueError(\"Action value not supported:\", action)\n",
    "        if next_state in self.maze[state]:\n",
    "            return next_state\n",
    "        return state\n",
    "\n",
    "    @staticmethod\n",
    "    def _create_maze(size: int) -> Dict[Tuple[int, int], Iterable[Tuple[int, int]]]:\n",
    "        maze = {(row, col): [(row - 1, col), (row + 1, col), (row, col - 1), (row, col + 1)]\n",
    "                for row in range(size) for col in range(size)}\n",
    "\n",
    "        left_edges = [[(row, 0), (row, -1)] for row in range(size)]\n",
    "        right_edges = [[(row, size - 1), (row, size)] for row in range(size)]\n",
    "        upper_edges = [[(0, col), (-1, col)] for col in range(size)]\n",
    "        lower_edges = [[(size - 1, col), (size, col)] for col in range(size)]\n",
    "        walls = [\n",
    "            [(1, 0), (1, 1)], [(2, 0), (2, 1)], [(3, 0), (3, 1)],\n",
    "            [(1, 1), (1, 2)], [(2, 1), (2, 2)], [(3, 1), (3, 2)],\n",
    "            [(3, 1), (4, 1)], [(0, 2), (1, 2)], [(1, 2), (1, 3)],\n",
    "            [(2, 2), (3, 2)], [(2, 3), (3, 3)], [(2, 4), (3, 4)],\n",
    "            [(4, 2), (4, 3)], [(1, 3), (1, 4)], [(2, 3), (2, 4)],\n",
    "        ]\n",
    "\n",
    "        obstacles = upper_edges + lower_edges + left_edges + right_edges + walls\n",
    "\n",
    "        for src, dst in obstacles:\n",
    "            maze[src].remove(dst)\n",
    "\n",
    "            if dst in maze:\n",
    "                maze[dst].remove(src)\n",
    "\n",
    "        return maze\n",
    "\n",
    "    @staticmethod\n",
    "    def _compute_distances(goal: Tuple[int, int],\n",
    "                           maze: Dict[Tuple[int, int], Iterable[Tuple[int, int]]]) -> np.ndarray:\n",
    "        distances = np.full((5, 5), np.inf)\n",
    "        visited = set()\n",
    "        distances[goal] = 0.\n",
    "\n",
    "        while visited != set(maze):\n",
    "            sorted_dst = [(v // 5, v % 5) for v in distances.argsort(axis=None)]\n",
    "            closest = next(x for x in sorted_dst if x not in visited)\n",
    "            visited.add(closest)\n",
    "\n",
    "            for neighbour in maze[closest]:\n",
    "                distances[neighbour] = min(distances[neighbour], distances[closest] + 1)\n",
    "        return distances\n",
    "\n",
    "\n",
    "def display_video(frames):\n",
    "    # Copied from: https://colab.research.google.com/github/deepmind/dm_control/blob/master/tutorial.ipynb\n",
    "    orig_backend = matplotlib.get_backend()\n",
    "    matplotlib.use('Agg')\n",
    "    fig, ax = plt.subplots(1, 1, figsize=(5, 5))\n",
    "    matplotlib.use(orig_backend)\n",
    "    ax.set_axis_off()\n",
    "    ax.set_aspect('equal')\n",
    "    ax.set_position([0, 0, 1, 1])\n",
    "    im = ax.imshow(frames[0])\n",
    "    def update(frame):\n",
    "        im.set_data(frame)\n",
    "        return [im]\n",
    "    anim = animation.FuncAnimation(fig=fig, func=update, frames=frames,\n",
    "                                   interval=50, blit=True, repeat=False)\n",
    "    return HTML(anim.to_html5_video())"
   ]
  },
  {
   "cell_type": "code",
   "outputs": [],
   "source": [
    "import gym \n",
    "import numpy as np\n",
    "from IPython import display\n",
    "from matplotlib import pyplot as plt"
   ],
   "metadata": {
    "collapsed": false,
    "ExecuteTime": {
     "end_time": "2024-04-05T14:16:46.889267Z",
     "start_time": "2024-04-05T14:16:46.887609Z"
    }
   },
   "id": "d4f219593888dcb7",
   "execution_count": 2
  },
  {
   "cell_type": "code",
   "outputs": [],
   "source": [
    "env = Maze()"
   ],
   "metadata": {
    "collapsed": false,
    "ExecuteTime": {
     "end_time": "2024-04-05T14:16:46.892926Z",
     "start_time": "2024-04-05T14:16:46.891021Z"
    }
   },
   "id": "691c01c24a442bec",
   "execution_count": 3
  },
  {
   "cell_type": "code",
   "outputs": [
    {
     "name": "stdout",
     "output_type": "stream",
     "text": [
      "The new episode will start in state: (0, 0)\n"
     ]
    }
   ],
   "source": [
    "initial_state = env.reset()\n",
    "print(f\"The new episode will start in state: {initial_state}\")"
   ],
   "metadata": {
    "collapsed": false,
    "ExecuteTime": {
     "end_time": "2024-04-05T14:16:46.895632Z",
     "start_time": "2024-04-05T14:16:46.893645Z"
    }
   },
   "id": "d88ea0b26c39a6e9",
   "execution_count": 4
  },
  {
   "cell_type": "code",
   "outputs": [
    {
     "data": {
      "text/plain": "<matplotlib.image.AxesImage at 0x13f97a680>"
     },
     "execution_count": 5,
     "metadata": {},
     "output_type": "execute_result"
    },
    {
     "data": {
      "text/plain": "<Figure size 640x480 with 1 Axes>",
      "image/png": "[encoded data removed]"
     },
     "metadata": {},
     "output_type": "display_data"
    }
   ],
   "source": [
    "frame = env.render(mode='rgb_array')\n",
    "plt.axis('off')\n",
    "plt.title(f\"State: {initial_state}\")\n",
    "plt.imshow(frame)"
   ],
   "metadata": {
    "collapsed": false,
    "ExecuteTime": {
     "end_time": "2024-04-05T14:16:47.358347Z",
     "start_time": "2024-04-05T14:16:46.896274Z"
    }
   },
   "id": "8beeff9f3240989e",
   "execution_count": 5
  },
  {
   "cell_type": "code",
   "outputs": [
    {
     "name": "stdout",
     "output_type": "stream",
     "text": [
      "After moving down 1 row, the agent is in state: (1, 0)\n",
      "After moving down 1 row, we got a reward of: -1.0\n",
      "After moving down 1 row, the task is not finished\n"
     ]
    }
   ],
   "source": [
    "action = 2\n",
    "next_state, reward, done, info = env.step(action)\n",
    "print(f\"After moving down 1 row, the agent is in state: {next_state}\")\n",
    "print(f\"After moving down 1 row, we got a reward of: {reward}\")\n",
    "print(\"After moving down 1 row, the task is\", \"\" if done else \"not\", \"finished\")"
   ],
   "metadata": {
    "collapsed": false,
    "ExecuteTime": {
     "end_time": "2024-04-05T14:16:47.361366Z",
     "start_time": "2024-04-05T14:16:47.359244Z"
    }
   },
   "id": "b734f767f77cb21f",
   "execution_count": 6
  },
  {
   "cell_type": "code",
   "outputs": [
    {
     "data": {
      "text/plain": "<matplotlib.image.AxesImage at 0x167eb2d70>"
     },
     "execution_count": 7,
     "metadata": {},
     "output_type": "execute_result"
    },
    {
     "data": {
      "text/plain": "<Figure size 640x480 with 1 Axes>",
      "image/png": "[encoded data removed]"
     },
     "metadata": {},
     "output_type": "display_data"
    }
   ],
   "source": [
    "frame = env.render(mode='rgb_array')\n",
    "plt.axis('off')\n",
    "plt.title(f\"State: {next_state}\")\n",
    "plt.imshow(frame)"
   ],
   "metadata": {
    "collapsed": false,
    "ExecuteTime": {
     "end_time": "2024-04-05T14:16:47.461924Z",
     "start_time": "2024-04-05T14:16:47.362156Z"
    }
   },
   "id": "763450197f0f0755",
   "execution_count": 7
  },
  {
   "cell_type": "code",
   "outputs": [],
   "source": [
    "env.close()"
   ],
   "metadata": {
    "collapsed": false,
    "ExecuteTime": {
     "end_time": "2024-04-05T14:16:47.554828Z",
     "start_time": "2024-04-05T14:16:47.463024Z"
    }
   },
   "id": "f7e806f66423f119",
   "execution_count": 8
  },
  {
   "cell_type": "code",
   "outputs": [],
   "source": [
    "env = Maze()"
   ],
   "metadata": {
    "collapsed": false,
    "ExecuteTime": {
     "end_time": "2024-04-05T14:16:47.557595Z",
     "start_time": "2024-04-05T14:16:47.555541Z"
    }
   },
   "id": "32c9476d48ec24cd",
   "execution_count": 9
  },
  {
   "cell_type": "code",
   "outputs": [
    {
     "data": {
      "text/plain": "(0, 0)"
     },
     "execution_count": 10,
     "metadata": {},
     "output_type": "execute_result"
    }
   ],
   "source": [
    "env.reset()"
   ],
   "metadata": {
    "collapsed": false,
    "ExecuteTime": {
     "end_time": "2024-04-05T14:16:47.560461Z",
     "start_time": "2024-04-05T14:16:47.558266Z"
    }
   },
   "id": "7ad355f6f7947e32",
   "execution_count": 10
  },
  {
   "cell_type": "code",
   "outputs": [
    {
     "data": {
      "text/plain": "MultiDiscrete([5 5])"
     },
     "execution_count": 11,
     "metadata": {},
     "output_type": "execute_result"
    }
   ],
   "source": [
    "env.observation_space"
   ],
   "metadata": {
    "collapsed": false,
    "ExecuteTime": {
     "end_time": "2024-04-05T14:16:47.563408Z",
     "start_time": "2024-04-05T14:16:47.561152Z"
    }
   },
   "id": "a7674655ea6174c1",
   "execution_count": 11
  },
  {
   "cell_type": "code",
   "outputs": [
    {
     "data": {
      "text/plain": "Discrete(4)"
     },
     "execution_count": 12,
     "metadata": {},
     "output_type": "execute_result"
    }
   ],
   "source": [
    "env.action_space"
   ],
   "metadata": {
    "collapsed": false,
    "ExecuteTime": {
     "end_time": "2024-04-05T14:16:47.567981Z",
     "start_time": "2024-04-05T14:16:47.565811Z"
    }
   },
   "id": "f94a396a5c208f1e",
   "execution_count": 12
  },
  {
   "cell_type": "code",
   "outputs": [
    {
     "data": {
      "text/plain": "0"
     },
     "execution_count": 13,
     "metadata": {},
     "output_type": "execute_result"
    }
   ],
   "source": [
    "env.action_space.sample()"
   ],
   "metadata": {
    "collapsed": false,
    "ExecuteTime": {
     "end_time": "2024-04-05T14:16:47.571126Z",
     "start_time": "2024-04-05T14:16:47.568521Z"
    }
   },
   "id": "1564456280b70945",
   "execution_count": 13
  },
  {
   "cell_type": "markdown",
   "source": [
    "Trajectory creation for 3 actions"
   ],
   "metadata": {
    "collapsed": false
   },
   "id": "a92ecfb3e09083b"
  },
  {
   "cell_type": "code",
   "outputs": [],
   "source": [
    "env = Maze()\n",
    "state = env.reset()\n",
    "trajectory = []\n",
    "for _ in range(3):\n",
    "    action = env.action_space.sample()\n",
    "    next_state, reward, done, extra_info = env.step(action)\n",
    "    trajectory.append([state, action, reward, done, next_state])\n",
    "    state = next_state\n",
    "env.close()    "
   ],
   "metadata": {
    "collapsed": false,
    "ExecuteTime": {
     "end_time": "2024-04-05T14:16:47.574675Z",
     "start_time": "2024-04-05T14:16:47.572013Z"
    }
   },
   "id": "ab995d23f0dbdf14",
   "execution_count": 14
  },
  {
   "cell_type": "code",
   "outputs": [
    {
     "name": "stdout",
     "output_type": "stream",
     "text": [
      "First trajectoy is: \n",
      "[[(0, 0), 1, -1.0, False, (0, 1)], [(0, 1), 0, -1.0, False, (0, 1)], [(0, 1), 3, -1.0, False, (0, 0)]]\n"
     ]
    }
   ],
   "source": [
    "print(f\"First trajectoy is: \\n{trajectory}\")"
   ],
   "metadata": {
    "collapsed": false,
    "ExecuteTime": {
     "end_time": "2024-04-05T14:16:47.576911Z",
     "start_time": "2024-04-05T14:16:47.575293Z"
    }
   },
   "id": "e951868bbe9a0d6c",
   "execution_count": 15
  },
  {
   "cell_type": "code",
   "outputs": [],
   "source": [
    "env = Maze()\n",
    "state = env.reset()\n",
    "episode = []\n",
    "done = False\n",
    "while not done:\n",
    "    action = env.action_space.sample()\n",
    "    next_state, reward, done, extra_info = env.step(action)\n",
    "    episode.append([state, action, reward, done, next_state])\n",
    "    state = next_state\n",
    "env.close()    "
   ],
   "metadata": {
    "collapsed": false,
    "ExecuteTime": {
     "end_time": "2024-04-05T14:16:47.580453Z",
     "start_time": "2024-04-05T14:16:47.577669Z"
    }
   },
   "id": "f662bb6d63fd0984",
   "execution_count": 16
  },
  {
   "cell_type": "code",
   "outputs": [
    {
     "data": {
      "text/plain": "[[(0, 0), 3, -1.0, False, (0, 0)],\n [(0, 0), 2, -1.0, False, (1, 0)],\n [(1, 0), 3, -1.0, False, (1, 0)],\n [(1, 0), 1, -1.0, False, (1, 0)],\n [(1, 0), 0, -1.0, False, (0, 0)],\n [(0, 0), 2, -1.0, False, (1, 0)],\n [(1, 0), 2, -1.0, False, (2, 0)],\n [(2, 0), 1, -1.0, False, (2, 0)],\n [(2, 0), 3, -1.0, False, (2, 0)],\n [(2, 0), 3, -1.0, False, (2, 0)],\n [(2, 0), 0, -1.0, False, (1, 0)],\n [(1, 0), 3, -1.0, False, (1, 0)],\n [(1, 0), 2, -1.0, False, (2, 0)],\n [(2, 0), 3, -1.0, False, (2, 0)],\n [(2, 0), 1, -1.0, False, (2, 0)],\n [(2, 0), 1, -1.0, False, (2, 0)],\n [(2, 0), 2, -1.0, False, (3, 0)],\n [(3, 0), 1, -1.0, False, (3, 0)],\n [(3, 0), 3, -1.0, False, (3, 0)],\n [(3, 0), 0, -1.0, False, (2, 0)],\n [(2, 0), 3, -1.0, False, (2, 0)],\n [(2, 0), 0, -1.0, False, (1, 0)],\n [(1, 0), 1, -1.0, False, (1, 0)],\n [(1, 0), 2, -1.0, False, (2, 0)],\n [(2, 0), 1, -1.0, False, (2, 0)],\n [(2, 0), 0, -1.0, False, (1, 0)],\n [(1, 0), 2, -1.0, False, (2, 0)],\n [(2, 0), 1, -1.0, False, (2, 0)],\n [(2, 0), 3, -1.0, False, (2, 0)],\n [(2, 0), 2, -1.0, False, (3, 0)],\n [(3, 0), 2, -1.0, False, (4, 0)],\n [(4, 0), 1, -1.0, False, (4, 1)],\n [(4, 1), 0, -1.0, False, (4, 1)],\n [(4, 1), 2, -1.0, False, (4, 1)],\n [(4, 1), 2, -1.0, False, (4, 1)],\n [(4, 1), 1, -1.0, False, (4, 2)],\n [(4, 2), 0, -1.0, False, (3, 2)],\n [(3, 2), 3, -1.0, False, (3, 2)],\n [(3, 2), 0, -1.0, False, (3, 2)],\n [(3, 2), 0, -1.0, False, (3, 2)],\n [(3, 2), 3, -1.0, False, (3, 2)],\n [(3, 2), 1, -1.0, False, (3, 3)],\n [(3, 3), 3, -1.0, False, (3, 2)],\n [(3, 2), 3, -1.0, False, (3, 2)],\n [(3, 2), 2, -1.0, False, (4, 2)],\n [(4, 2), 2, -1.0, False, (4, 2)],\n [(4, 2), 3, -1.0, False, (4, 1)],\n [(4, 1), 1, -1.0, False, (4, 2)],\n [(4, 2), 2, -1.0, False, (4, 2)],\n [(4, 2), 0, -1.0, False, (3, 2)],\n [(3, 2), 0, -1.0, False, (3, 2)],\n [(3, 2), 3, -1.0, False, (3, 2)],\n [(3, 2), 1, -1.0, False, (3, 3)],\n [(3, 3), 3, -1.0, False, (3, 2)],\n [(3, 2), 2, -1.0, False, (4, 2)],\n [(4, 2), 1, -1.0, False, (4, 2)],\n [(4, 2), 2, -1.0, False, (4, 2)],\n [(4, 2), 0, -1.0, False, (3, 2)],\n [(3, 2), 0, -1.0, False, (3, 2)],\n [(3, 2), 0, -1.0, False, (3, 2)],\n [(3, 2), 2, -1.0, False, (4, 2)],\n [(4, 2), 1, -1.0, False, (4, 2)],\n [(4, 2), 0, -1.0, False, (3, 2)],\n [(3, 2), 3, -1.0, False, (3, 2)],\n [(3, 2), 2, -1.0, False, (4, 2)],\n [(4, 2), 3, -1.0, False, (4, 1)],\n [(4, 1), 2, -1.0, False, (4, 1)],\n [(4, 1), 1, -1.0, False, (4, 2)],\n [(4, 2), 1, -1.0, False, (4, 2)],\n [(4, 2), 1, -1.0, False, (4, 2)],\n [(4, 2), 3, -1.0, False, (4, 1)],\n [(4, 1), 2, -1.0, False, (4, 1)],\n [(4, 1), 0, -1.0, False, (4, 1)],\n [(4, 1), 2, -1.0, False, (4, 1)],\n [(4, 1), 3, -1.0, False, (4, 0)],\n [(4, 0), 2, -1.0, False, (4, 0)],\n [(4, 0), 2, -1.0, False, (4, 0)],\n [(4, 0), 3, -1.0, False, (4, 0)],\n [(4, 0), 3, -1.0, False, (4, 0)],\n [(4, 0), 3, -1.0, False, (4, 0)],\n [(4, 0), 3, -1.0, False, (4, 0)],\n [(4, 0), 3, -1.0, False, (4, 0)],\n [(4, 0), 3, -1.0, False, (4, 0)],\n [(4, 0), 3, -1.0, False, (4, 0)],\n [(4, 0), 0, -1.0, False, (3, 0)],\n [(3, 0), 3, -1.0, False, (3, 0)],\n [(3, 0), 1, -1.0, False, (3, 0)],\n [(3, 0), 3, -1.0, False, (3, 0)],\n [(3, 0), 0, -1.0, False, (2, 0)],\n [(2, 0), 3, -1.0, False, (2, 0)],\n [(2, 0), 1, -1.0, False, (2, 0)],\n [(2, 0), 1, -1.0, False, (2, 0)],\n [(2, 0), 3, -1.0, False, (2, 0)],\n [(2, 0), 2, -1.0, False, (3, 0)],\n [(3, 0), 0, -1.0, False, (2, 0)],\n [(2, 0), 2, -1.0, False, (3, 0)],\n [(3, 0), 2, -1.0, False, (4, 0)],\n [(4, 0), 3, -1.0, False, (4, 0)],\n [(4, 0), 3, -1.0, False, (4, 0)],\n [(4, 0), 2, -1.0, False, (4, 0)],\n [(4, 0), 0, -1.0, False, (3, 0)],\n [(3, 0), 1, -1.0, False, (3, 0)],\n [(3, 0), 3, -1.0, False, (3, 0)],\n [(3, 0), 2, -1.0, False, (4, 0)],\n [(4, 0), 1, -1.0, False, (4, 1)],\n [(4, 1), 2, -1.0, False, (4, 1)],\n [(4, 1), 1, -1.0, False, (4, 2)],\n [(4, 2), 1, -1.0, False, (4, 2)],\n [(4, 2), 0, -1.0, False, (3, 2)],\n [(3, 2), 1, -1.0, False, (3, 3)],\n [(3, 3), 3, -1.0, False, (3, 2)],\n [(3, 2), 2, -1.0, False, (4, 2)],\n [(4, 2), 0, -1.0, False, (3, 2)],\n [(3, 2), 0, -1.0, False, (3, 2)],\n [(3, 2), 1, -1.0, False, (3, 3)],\n [(3, 3), 0, -1.0, False, (3, 3)],\n [(3, 3), 1, -1.0, False, (3, 4)],\n [(3, 4), 1, -1.0, False, (3, 4)],\n [(3, 4), 0, -1.0, False, (3, 4)],\n [(3, 4), 1, -1.0, False, (3, 4)],\n [(3, 4), 2, -1.0, True, (4, 4)]]"
     },
     "execution_count": 17,
     "metadata": {},
     "output_type": "execute_result"
    }
   ],
   "source": [
    "episode"
   ],
   "metadata": {
    "collapsed": false,
    "ExecuteTime": {
     "end_time": "2024-04-05T14:16:47.590253Z",
     "start_time": "2024-04-05T14:16:47.581180Z"
    }
   },
   "id": "50eaf5323446ea4b",
   "execution_count": 17
  },
  {
   "cell_type": "code",
   "outputs": [],
   "source": [
    "env = Maze()\n",
    "state = env.reset()\n",
    "done = False\n",
    "gamma = 0.98\n",
    "G_0 = 0\n",
    "t = 0\n",
    "while not done:\n",
    "    action = env.action_space.sample()\n",
    "    next_state, reward, done, extra_info = env.step(action)\n",
    "    G_0 += gamma ** t * reward\n",
    "    t += 1\n",
    "env.close()"
   ],
   "metadata": {
    "collapsed": false,
    "ExecuteTime": {
     "end_time": "2024-04-05T14:16:47.593968Z",
     "start_time": "2024-04-05T14:16:47.590902Z"
    }
   },
   "id": "43aaa8518984b748",
   "execution_count": 18
  },
  {
   "cell_type": "code",
   "outputs": [
    {
     "data": {
      "text/plain": "76"
     },
     "execution_count": 19,
     "metadata": {},
     "output_type": "execute_result"
    }
   ],
   "source": [
    "#No of iterations\n",
    "t"
   ],
   "metadata": {
    "collapsed": false,
    "ExecuteTime": {
     "end_time": "2024-04-05T14:16:47.597301Z",
     "start_time": "2024-04-05T14:16:47.594554Z"
    }
   },
   "id": "e3b4f083e614f655",
   "execution_count": 19
  },
  {
   "cell_type": "code",
   "outputs": [
    {
     "data": {
      "text/plain": "-39.231585678215446"
     },
     "execution_count": 20,
     "metadata": {},
     "output_type": "execute_result"
    }
   ],
   "source": [
    "#Total reward\n",
    "G_0"
   ],
   "metadata": {
    "collapsed": false,
    "ExecuteTime": {
     "end_time": "2024-04-05T14:16:47.600562Z",
     "start_time": "2024-04-05T14:16:47.598126Z"
    }
   },
   "id": "f134c5477fdeb6c5",
   "execution_count": 20
  },
  {
   "cell_type": "markdown",
   "source": [
    "**Conclusion**\n",
    "The Markov decision process is a stochastic decision-making tool based on the Markov Property principle. It is used to make optimal decisions for dynamic systems while considering their current state and the environment in which they operate. MDP is a key component of reinforcement learning applications and is widely employed to design intelligent systems. Several industries, such as robotic process automation, manufacturing, finance & economics, and logistics, use MDPs regularly to carry out their day-to-day tasks."
   ],
   "metadata": {
    "collapsed": false
   },
   "id": "eb237227e8342725"
  },
  {
   "cell_type": "code",
   "outputs": [],
   "source": [],
   "metadata": {
    "collapsed": false,
    "ExecuteTime": {
     "end_time": "2024-04-05T14:16:47.602633Z",
     "start_time": "2024-04-05T14:16:47.601285Z"
    }
   },
   "id": "4541b6b0c7e368d7",
   "execution_count": 20
  }
 ],
 "metadata": {
  "kernelspec": {
   "display_name": "Python 3",
   "language": "python",
   "name": "python3"
  },
  "language_info": {
   "codemirror_mode": {
    "name": "ipython",
    "version": 2
   },
   "file_extension": ".py",
   "mimetype": "text/x-python",
   "name": "python",
   "nbconvert_exporter": "python",
   "pygments_lexer": "ipython2",
   "version": "2.7.6"
  }
 },
 "nbformat": 4,
 "nbformat_minor": 5
}
